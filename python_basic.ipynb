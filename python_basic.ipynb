{
  "nbformat": 4,
  "nbformat_minor": 0,
  "metadata": {
    "colab": {
      "name": "python basic",
      "provenance": [],
      "collapsed_sections": []
    },
    "kernelspec": {
      "name": "python3",
      "display_name": "Python 3"
    },
    "language_info": {
      "name": "python"
    },
    "accelerator": "GPU"
  },
  "cells": [
    {
      "cell_type": "markdown",
      "metadata": {
        "id": "T1h4_pJWM2d_"
      },
      "source": [
        "Basic data types"
      ]
    },
    {
      "cell_type": "code",
      "metadata": {
        "colab": {
          "base_uri": "https://localhost:8080/"
        },
        "id": "t4GlzdH9MrBC",
        "outputId": "dea2cd8b-0c30-421e-c74d-7e70d73393ff"
      },
      "source": [
        "x = 3\n",
        "print(type(x)) # Prints \"<class 'int'>\"\n",
        "print(x)       # Prints \"3\"\n",
        "print(x + 1)   # Addition; prints \"4\"\n",
        "print(x - 1)   # Subtraction; prints \"2\"\n",
        "print(x * 2)   # Multiplication; prints \"6\"\n",
        "print(x ** 2)  # Exponentiation; prints \"9\"\n",
        "x += 1\n",
        "print(x)  # Prints \"4\"\n",
        "x *= 2\n",
        "print(x)  # Prints \"8\"\n",
        "y = 2.5\n",
        "print(type(y)) # Prints \"<class 'float'>\"\n",
        "print(y, y + 1, y * 2, y ** 2) # Prints \"2.5 3.5 5.0 6.25\""
      ],
      "execution_count": null,
      "outputs": [
        {
          "output_type": "stream",
          "text": [
            "<class 'int'>\n",
            "3\n",
            "4\n",
            "2\n",
            "6\n",
            "9\n",
            "4\n",
            "8\n",
            "<class 'float'>\n",
            "2.5 3.5 5.0 6.25\n"
          ],
          "name": "stdout"
        }
      ]
    },
    {
      "cell_type": "markdown",
      "metadata": {
        "id": "tliXUtGcM-y9"
      },
      "source": [
        "Booleans: Python implements all of the usual operators for Boolean logic, but uses English words rather than symbols (&&, ||, etc.):\n"
      ]
    },
    {
      "cell_type": "code",
      "metadata": {
        "colab": {
          "base_uri": "https://localhost:8080/"
        },
        "id": "QH3iKlkbM_-J",
        "outputId": "c74ce0d1-5f12-4c5d-b8e0-c62d57e761b6"
      },
      "source": [
        "t = True\n",
        "f = False\n",
        "print(type(t)) # Prints \"<class 'bool'>\"\n",
        "print(t and f) # Logical AND; prints \"False\"\n",
        "print(t or f)  # Logical OR; prints \"True\"\n",
        "print(not t)   # Logical NOT; prints \"False\"\n",
        "print(t != f)  # Logical XOR; prints \"True\""
      ],
      "execution_count": null,
      "outputs": [
        {
          "output_type": "stream",
          "text": [
            "<class 'bool'>\n",
            "False\n",
            "True\n",
            "False\n",
            "True\n"
          ],
          "name": "stdout"
        }
      ]
    },
    {
      "cell_type": "markdown",
      "metadata": {
        "id": "TQBPn88UNJ1E"
      },
      "source": [
        "Strings: Python has great support for strings:\n"
      ]
    },
    {
      "cell_type": "code",
      "metadata": {
        "colab": {
          "base_uri": "https://localhost:8080/"
        },
        "id": "RYAnLAHPNKtE",
        "outputId": "9f76540a-adea-491a-9ef6-fc8357900f3f"
      },
      "source": [
        "hello = 'hello'    # String literals can use single quotes\n",
        "world = \"world\"    # or double quotes; it does not matter.\n",
        "print(hello)       # Prints \"hello\"\n",
        "print(len(hello))  # String length; prints \"5\"\n",
        "hw = hello + ' ' + world  # String concatenation\n",
        "print(hw)  # prints \"hello world\"\n",
        "hw12 = '%s %s %d' % (hello, world, 12)  # sprintf style string formatting\n",
        "print(hw12)  # prints \"hello world 12\""
      ],
      "execution_count": null,
      "outputs": [
        {
          "output_type": "stream",
          "text": [
            "hello\n",
            "5\n",
            "hello world\n",
            "hello world 12\n"
          ],
          "name": "stdout"
        }
      ]
    },
    {
      "cell_type": "markdown",
      "metadata": {
        "id": "mN4-edEKNSI6"
      },
      "source": [
        "Kiểu string có rất nhiều method để xử lý chuỗi.\n"
      ]
    },
    {
      "cell_type": "code",
      "metadata": {
        "colab": {
          "base_uri": "https://localhost:8080/"
        },
        "id": "yWIIkXyeNVON",
        "outputId": "7de72ee4-7cc4-49b8-df45-331e4297b855"
      },
      "source": [
        "s = \"hello\"\n",
        "print(s.capitalize())  # Capitalize a string; prints \"Hello\"\n",
        "print(s.upper())       # Convert a string to uppercase; prints \"HELLO\"\n",
        "print(s.rjust(7))      # Right-justify a string, padding with spaces; prints \"  hello\"\n",
        "print(s.center(7))     # Center a string, padding with spaces; prints \" hello \"\n",
        "print(s.replace('l', '(ell)'))  # Replace all instances of one substring with another;\n",
        "                                # prints \"he(ell)(ell)o\"\n",
        "print('  world '.strip())  # Strip leading and trailing whitespace; prints \"world\""
      ],
      "execution_count": null,
      "outputs": [
        {
          "output_type": "stream",
          "text": [
            "Hello\n",
            "HELLO\n",
            "  hello\n",
            " hello \n",
            "he(ell)(ell)o\n",
            "world\n"
          ],
          "name": "stdout"
        }
      ]
    },
    {
      "cell_type": "code",
      "metadata": {
        "colab": {
          "base_uri": "https://localhost:8080/"
        },
        "id": "3wOZHOBpNif_",
        "outputId": "b5be58e3-5751-4efb-a118-9e12f965962f"
      },
      "source": [
        "s = \"hello\"\n",
        "print(s.capitalize()) # Viết hoa chữ cái đầu; prints \"Hello\"\n",
        "print(s.upper()) # Viết hoa tất cả các chữ; prints \"HELLO\"\n",
        "print(s.replace('l', '(ell)')) # Thay thế chuỗi; prints \"he(ell)(ell)o\"\n",
        "print(' world '.strip()) # Bỏ đi khoảng trắng ở đầu và cuối chuỗi;\n",
        "# prints \"world\"\n",
        "print('Nguyen Thanh Tuan'.split()) # Split chuỗi ra list, phân tách bằng 1 hoặc nhiều\n",
        "# khoảng trắng ; prints ['Nguyen', 'Thanh', 'Tuan']\n",
        "print(' '.join(['Nguyen', 'Thanh', 'Tuan'])) \n",
        "# Join các phần tử trong list lại với nhau,\n",
        "# các phần tử cách nhau bằng 1 khoảng trắng\n",
        "\n",
        "\n"
      ],
      "execution_count": null,
      "outputs": [
        {
          "output_type": "stream",
          "text": [
            "Hello\n",
            "HELLO\n",
            "he(ell)(ell)o\n",
            "world\n",
            "['Nguyen', 'Thanh', 'Tuan']\n",
            "Nguyen Thanh Tuan\n"
          ],
          "name": "stdout"
        }
      ]
    },
    {
      "cell_type": "code",
      "metadata": {
        "id": "0SBP57WkuZK7"
      },
      "source": [
        "2.2 Containers\n",
        "Các kiểu dữ liệu cơ bản chỉ chứa một giá trị mỗi biến (số, chuỗi), tuy nhiên nhiều lúc mình cần chứa\n",
        "nhiều giá trị, ví dụ chứa tên học sinh trong một lớp có 100 bạn. Mình không thể tạo 100 biến để\n",
        "lưu tên 100 bạn. Vậy nên cần các kiểu dữ liệu có thể chứa nhiều giá trị khác nhau. Đó là container\n",
        "(collection). Python có một số container như: list, tuple, set, dictionary. Dưới tôi sẽ trình bày hai\n",
        "kiểu dữ liệu collection mà mọi người hay gặp nhất trong python là list và dictionary"
      ],
      "execution_count": null,
      "outputs": []
    },
    {
      "cell_type": "markdown",
      "metadata": {
        "id": "RQrVidivvZco"
      },
      "source": [
        "2.2.1 List\n",
        "List trong Python giống như mảng (array) nhưng không cố định kích thước và **có thể chứa nhiều\n",
        "kiểu dữ liệu khác nhau trong 1 list** "
      ]
    },
    {
      "cell_type": "code",
      "metadata": {
        "colab": {
          "base_uri": "https://localhost:8080/"
        },
        "id": "DJ8LE0aFvf5w",
        "outputId": "d25755d5-0864-42b3-d0bb-8a5bc8c9c750"
      },
      "source": [
        "xs = [3, 1.5, 2] # Tạo 1 list\n",
        "print(xs, xs[0]) # Prints \"[3, 1, 2] 3\"\n",
        "print(xs[-1]) # Chỉ số âm là đếm phần tử từ cuối list lên; prints \"2\"\n",
        "xs[2] = 'foo' # List có thể chứa nhiều kiểu phần tử khác nhau\n",
        "print(xs) # Prints \"[3, 1, 'foo']\"\n",
        "xs.append('bar') # Thêm phần tử vào cuối list\n",
        "print(xs) # Prints \"[3, 1, 'foo', 'bar']\"\n",
        "x = xs.pop() # Bỏ đi phần tử cuối cùng khỏi list và trả về phần tử đấy\n",
        "print(x, xs) # Prints \"bar [3, 1, 'foo']\""
      ],
      "execution_count": null,
      "outputs": [
        {
          "output_type": "stream",
          "text": [
            "[3, 1.5, 2] 3\n",
            "2\n",
            "[3, 1.5, 'foo']\n",
            "[3, 1.5, 'foo', 'bar']\n",
            "bar [3, 1.5, 'foo']\n"
          ],
          "name": "stdout"
        }
      ]
    },
    {
      "cell_type": "markdown",
      "metadata": {
        "id": "ed-s_et-v9TB"
      },
      "source": [
        "Slicing Thay vì lấy từng phần tử một trong list thì python hỗ trợ truy xuất nhiều phần tử 1 lúc gọi là\n",
        "slicing."
      ]
    },
    {
      "cell_type": "code",
      "metadata": {
        "colab": {
          "base_uri": "https://localhost:8080/"
        },
        "id": "xcp9HLrev-LD",
        "outputId": "6cde3af4-5871-480a-9276-2eabb26d26e2"
      },
      "source": [
        "nums = list(range(10)) # range sinh ta 1 list các phần tử lúc này là 5\n",
        "print(nums) # Prints \"[0, 1, 2, 3, 4]\"\n",
        "print(nums[2:4]) # Lấy phần tử thứ 2->4, python chỉ số mảng từ 0;\n",
        "print(nums[2:]) # Lấy từ phần tử thứ 2 đến hết; prints \"[2, 3, 4]\"\n",
        "print(nums[:2]) # Lấy từ đầu đến phần tử thứ 2; prints \"[0, 1]\"\n",
        "print(nums[:]) # Lấy tất cả phần tử trong list; prints \"[0, 1, 2, 3, 4]\"\n",
        "print(nums[:-1]) # Lấy từ phần tử đầu đến phần tử gần cuối trong list;\n",
        "# prints \"[0, 1, 2, 3]\"\n",
        "nums[2:4] = [8, 9] # Gán giá trị mới cho phần tử trong mảng từ vị trí 2->4\n",
        "print(nums) # Prints \"[0, 1, 8, 9, 4]\"\n"
      ],
      "execution_count": null,
      "outputs": [
        {
          "output_type": "stream",
          "text": [
            "[0, 1, 2, 3, 4, 5, 6, 7, 8, 9]\n",
            "[2, 3]\n",
            "[2, 3, 4, 5, 6, 7, 8, 9]\n",
            "[0, 1]\n",
            "[0, 1, 2, 3, 4, 5, 6, 7, 8, 9]\n",
            "[0, 1, 2, 3, 4, 5, 6, 7, 8]\n",
            "[0, 1, 8, 9, 4, 5, 6, 7, 8, 9]\n"
          ],
          "name": "stdout"
        }
      ]
    },
    {
      "cell_type": "markdown",
      "metadata": {
        "id": "_FqJ10ptwQMs"
      },
      "source": [
        "Loops Để duyệt và in ra các phần tử trong list"
      ]
    },
    {
      "cell_type": "code",
      "metadata": {
        "colab": {
          "base_uri": "https://localhost:8080/"
        },
        "id": "VfU51sOGwSCR",
        "outputId": "1a6bb9ac-a5c4-4d59-85f2-c8ddae5dc5a7"
      },
      "source": [
        "animals = ['cat', 'dog', 'monkey']\n",
        "# duyệt giá trị không cần chỉ số\n",
        "for animal in animals:\n",
        "  print('%s' % (animals))\n",
        "# duyệt giá trị kèm chỉ số dùng enumerate\n",
        "for idx, animal in enumerate(animals):\n",
        "  print('#%d: %s' % (idx + 1, animal))\n",
        "# Prints \"#1: cat\", \"#2: dog\", \"#3: monkey\", in mỗi thành phần trong list 1 dòng"
      ],
      "execution_count": null,
      "outputs": [
        {
          "output_type": "stream",
          "text": [
            "['cat', 'dog', 'monkey']\n",
            "['cat', 'dog', 'monkey']\n",
            "['cat', 'dog', 'monkey']\n",
            "#1: cat\n",
            "#2: dog\n",
            "#3: monkey\n"
          ],
          "name": "stdout"
        }
      ]
    },
    {
      "cell_type": "code",
      "metadata": {
        "colab": {
          "base_uri": "https://localhost:8080/"
        },
        "id": "nrGdGqpGwvR_",
        "outputId": "ea628910-7619-45af-e39b-20256a325e38"
      },
      "source": [
        "animals = ['cat', 'dog', 'monkey']\n",
        "for animal in animals:\n",
        "    print(animal)\n",
        "# Prints \"cat\", \"dog\", \"monkey\", each on its own line."
      ],
      "execution_count": null,
      "outputs": [
        {
          "output_type": "stream",
          "text": [
            "cat\n",
            "dog\n",
            "monkey\n"
          ],
          "name": "stdout"
        }
      ]
    },
    {
      "cell_type": "markdown",
      "metadata": {
        "id": "6MkaOe07srrh"
      },
      "source": [
        "we have method is soft()\n"
      ]
    },
    {
      "cell_type": "code",
      "metadata": {
        "colab": {
          "base_uri": "https://localhost:8080/"
        },
        "id": "vNyZlF9YsvNn",
        "outputId": "b0f48e49-49d0-45f8-90ba-4fe3a6bf7a44"
      },
      "source": [
        "spam = [1, -1, 6 ,4 , -22]\n",
        "spam.sort()\n",
        "print(spam)"
      ],
      "execution_count": 6,
      "outputs": [
        {
          "output_type": "stream",
          "text": [
            "[-22, -1, 1, 4, 6]\n"
          ],
          "name": "stdout"
        }
      ]
    },
    {
      "cell_type": "markdown",
      "metadata": {
        "id": "VESlNiPSxEpC"
      },
      "source": [
        "2.2.2 Dictionaries\n",
        "Dictionaries lưu thông tin dưới dạng key, value."
      ]
    },
    {
      "cell_type": "code",
      "metadata": {
        "colab": {
          "base_uri": "https://localhost:8080/"
        },
        "id": "SmzNUqbqxFuU",
        "outputId": "f7266767-3771-4a2d-9dd0-cdff221b7ffc"
      },
      "source": [
        "d = {'cat': 'cute', 'dog': 'furry'} # Tạo dictionary, các phần tử dạng key:value\n",
        "print(d['cat']) # Lấy ra value của key 'cat' trong dictionary prints \"cute\"\n",
        "print('cat' in d) # Kiểm tra key có trong dictionary không; prints \"True\"\n",
        "d['fish'] = 'wet' # Gán key, value, d[key] = value\n",
        "print(d['fish']) # Prints \"wet\"\n",
        " print(d['monkey']) # Lỗi vì key 'monkey' không trong dictionary\n",
        "#del d['fish'] # Xóa phần tử key:value từ dictionary"
      ],
      "execution_count": null,
      "outputs": [
        {
          "output_type": "stream",
          "text": [
            "cute\n",
            "True\n",
            "wet\n"
          ],
          "name": "stdout"
        }
      ]
    },
    {
      "cell_type": "code",
      "metadata": {
        "colab": {
          "base_uri": "https://localhost:8080/"
        },
        "id": "AvumaEhIxxmQ",
        "outputId": "95961b74-d461-4663-d8ac-6578da1b1405"
      },
      "source": [
        "#A dictionary stores (key, value) pairs, similar to a Map in Java or an object in Javascript. \n",
        "#You can use it like this:\n",
        "\n",
        "d = {'cat': 'cute', 'dog': 'furry'}  # Create a new dictionary with some data\n",
        "print(d['cat'])       # Get an entry from a dictionary; prints \"cute\"\n",
        "print('cat' in d)     # Check if a dictionary has a given key; prints \"True\"\n",
        "d['fish'] = 'wet'     # Set an entry in a dictionary\n",
        "print(d['fish'])      # Prints \"wet\"\n",
        "# print(d['monkey'])  # KeyError: 'monkey' not a key of d\n",
        "print(d.get('monkey', 'N/A'))  # Get an element with a default; prints \"N/A\"\n",
        "print(d.get('fish', 'N/A'))    # Get an element with a default; prints \"wet\"\n",
        "del d['fish']         # Remove an element from a dictionary\n",
        "print(d.get('fish', 'N/A')) # \"fish\" is no longer a key; prints \"N/A\""
      ],
      "execution_count": null,
      "outputs": [
        {
          "output_type": "stream",
          "text": [
            "cute\n",
            "True\n",
            "wet\n",
            "N/A\n",
            "wet\n",
            "N/A\n"
          ],
          "name": "stdout"
        }
      ]
    },
    {
      "cell_type": "markdown",
      "metadata": {
        "id": "zstt3LAgxksY"
      },
      "source": [
        "Loop: Duyệt qua các phần tử trong dictionary"
      ]
    },
    {
      "cell_type": "code",
      "metadata": {
        "colab": {
          "base_uri": "https://localhost:8080/"
        },
        "id": "9vz5KZl9xpO-",
        "outputId": "6da42423-59d9-442b-94dc-01f41fc41542"
      },
      "source": [
        "d = {'person': 2, 'cat': 4, 'spider': 8}\n",
        "# Duyệt key\n",
        "for animal in d:\n",
        "  print('A %s has %d legs' % (animal, d[animal]))\n",
        "# Prints \"A person has 2 legs\", \"A cat has 4 legs\", \"A spider has 8\n",
        "# Duyệt value\n",
        "for legs in d.values():\n",
        "  print('%d legs' % (legs))\n",
        "# Prints \"2 legs\", \"4 legs\", \"8 legs\"\n",
        "# Duyệt cả key và value\n",
        "for animal, legs in d.items():\n",
        "  print('A %s has %d legs' % (animal, legs))\n",
        "# Prints \"A person has 2 legs\", \"A cat has 4 legs\", \"A spider has 8 legs\""
      ],
      "execution_count": null,
      "outputs": [
        {
          "output_type": "stream",
          "text": [
            "A person has 2 legs\n",
            "A cat has 4 legs\n",
            "A spider has 8 legs\n",
            "2 legs\n",
            "4 legs\n",
            "8 legs\n",
            "A person has 2 legs\n",
            "A cat has 4 legs\n",
            "A spider has 8 legs\n"
          ],
          "name": "stdout"
        }
      ]
    },
    {
      "cell_type": "markdown",
      "metadata": {
        "id": "v1fJMUbbyHaz"
      },
      "source": [
        "Tuples\n",
        "A tuple is an (immutable) ordered list of values. A tuple is in many ways similar to a list; one of the most important differences is that tuples can be used as keys in dictionaries and as elements of sets, while lists cannot. Here is a trivial example:"
      ]
    },
    {
      "cell_type": "code",
      "metadata": {
        "colab": {
          "base_uri": "https://localhost:8080/"
        },
        "id": "R2CwixdGyISM",
        "outputId": "2793b970-6644-4efa-9618-cc51ffb362b1"
      },
      "source": [
        "d = {(x, x + 1): x for x in range(10)}  # Create a dictionary with tuple keys\n",
        "t = (5, 6)        # Create a tuple\n",
        "print(type(t))    # Prints \"<class 'tuple'>\"\n",
        "print(d[t])       # Prints \"5\"\n",
        "print(d[(1, 2)])  # Prints \"1\""
      ],
      "execution_count": null,
      "outputs": [
        {
          "output_type": "stream",
          "text": [
            "<class 'tuple'>\n",
            "5\n",
            "1\n"
          ],
          "name": "stdout"
        }
      ]
    },
    {
      "cell_type": "markdown",
      "metadata": {
        "id": "hpvnxPP0yOjT"
      },
      "source": [
        "2.3 Function"
      ]
    },
    {
      "cell_type": "markdown",
      "metadata": {
        "id": "9XFS5dd2yO7Y"
      },
      "source": [
        "Function (hàm) là một khối code python được thực hiện một hoặc một số chức năng nhất định. Hàm\n",
        "có input và có ouptut, trước khi viết hàm mọi người nên xác định hàm này để làm gì? input là gì?\n",
        "output làm gì?\n",
        "Ví dụ hàm kiểm tra số nguyên tố, mục đích để kiếm tra 1 số xem có phải là số nguyên tố hay không,\n",
        "input là 1 số nguyên dương, output dạng boolean (True/False). True tức là số input là số nguyên tố,\n",
        "False nghĩa là không phải số nguyên tố.\n",
        "Function trong python được định nghĩa với keyword def."
      ]
    },
    {
      "cell_type": "code",
      "metadata": {
        "id": "G5PQVGIjyUps"
      },
      "source": [
        "def quicksort(arr):\n",
        "    if len(arr) <= 1:\n",
        "        return arr\n",
        "    pivot = arr[len(arr) // 2]\n",
        "    left = [x for x in arr if x < pivot]\n",
        "    middle = [x for x in arr if x == pivot]\n",
        "    right = [x for x in arr if x > pivot]\n",
        "    return quicksort(left) + middle + quicksort(right)\n",
        "\n",
        "print(quicksort([3,6,8,10,1,2,1]))\n",
        "# Prints \"[1, 1, 2, 3, 6, 8, 10]\""
      ],
      "execution_count": null,
      "outputs": []
    },
    {
      "cell_type": "code",
      "metadata": {
        "colab": {
          "base_uri": "https://localhost:8080/"
        },
        "id": "llJsnS4ZyboV",
        "outputId": "d5e782d2-c73b-4a05-8770-2e4e304a73f8"
      },
      "source": [
        "# Hàm có input là 1 số và output xem số đấy âm, dương hay số 0\n",
        "# Định nghĩa hàm\n",
        "def sign(x):\n",
        "  if x > 0:\n",
        "    return 'positive'\n",
        "  elif x < 0:\n",
        "    return 'negative'\n",
        "  else:\n",
        "    return 'zero'\n",
        "for x in [-1, 0, 1]:\n",
        "# Gọi hàm\n",
        "  print(sign(x))\n",
        "# Prints \"negative\", \"zero\", \"positive\""
      ],
      "execution_count": null,
      "outputs": [
        {
          "output_type": "stream",
          "text": [
            "negative\n",
            "zero\n",
            "positive\n"
          ],
          "name": "stdout"
        }
      ]
    },
    {
      "cell_type": "code",
      "metadata": {
        "id": "BFD6X3UCys85"
      },
      "source": [
        "We will often define functions to take optional keyword arguments, like this"
      ],
      "execution_count": null,
      "outputs": []
    },
    {
      "cell_type": "code",
      "metadata": {
        "colab": {
          "base_uri": "https://localhost:8080/"
        },
        "id": "5pHmB7e7ywbq",
        "outputId": "8facb089-7aa4-464a-aab5-4d1b8e64d38b"
      },
      "source": [
        "def hello(name, loud=False):\n",
        "    if loud:\n",
        "        print('HELLO, %s!' % name.upper())\n",
        "    else:\n",
        "        print('Hello, %s' % name)\n",
        "\n",
        "hello('Bob') # Prints \"Hello, Bob\"\n",
        "hello('Fred', loud=True)  # Prints \"HELLO, FRED!\""
      ],
      "execution_count": null,
      "outputs": [
        {
          "output_type": "stream",
          "text": [
            "Hello, Bob\n",
            "HELLO, FRED!\n"
          ],
          "name": "stdout"
        }
      ]
    },
    {
      "cell_type": "code",
      "metadata": {
        "colab": {
          "base_uri": "https://localhost:8080/"
        },
        "id": "A2ClGsXJy9Xl",
        "outputId": "fb8df271-e66c-43bc-c2ff-5c1fb311ad97"
      },
      "source": [
        "def fib(n):    # write Fibonacci series up to n\n",
        "  \"\"\"Print a Fibonacci series up to n.\"\"\"\n",
        "  a, b = 0, 1\n",
        "  while a <= n:\n",
        "        print(a, end=' ')\n",
        "        a, b = b, a+b\n",
        "  print()\n",
        "\n",
        "# Now call the function we just defined:\n",
        "print(fib(13))\n",
        "#0 1 1 2 3 5 8 13 21 34 55 89 144 233 377 610 987 1597"
      ],
      "execution_count": null,
      "outputs": [
        {
          "output_type": "stream",
          "text": [
            "0 1 1 2 3 5 8 13 \n",
            "None\n"
          ],
          "name": "stdout"
        }
      ]
    },
    {
      "cell_type": "markdown",
      "metadata": {
        "id": "2ny3mwFizkAU"
      },
      "source": [
        "Thư viện Numpy\n",
        "Vì Python là scripting language nên không thích hợp cho machine learning, numpy giải quyết vấn\n",
        "đề trên bằng cách xây dựng 1 thư viện viết bằng C nhưng có interface Python. Như vậy Numpy\n",
        "cộng hưởng 2 ưu điểm của 2 ngôn ngữ: nhanh như C và đơn giản như Python. Điều này giúp ích rất\n",
        "nhiều cho cộng đồng Machine Learning trên Python.\n",
        "Mảng trong numpy gồm các phần tử có dùng kiểu giá trị, chỉ số không âm được bắt đầu từ\n",
        "0, số chiều được gọi là rank của mảng Numpy, và shape của mảng là một tuple các số nguyên đưa\n",
        "ra kích thước của mảng theo mỗi chiều.\n"
      ]
    },
    {
      "cell_type": "code",
      "metadata": {
        "colab": {
          "base_uri": "https://localhost:8080/"
        },
        "id": "FUE_MsBzzqbg",
        "outputId": "c097f61f-f269-4abf-9a1b-d9964ec7858b"
      },
      "source": [
        "import numpy as np\n",
        "a = np.array([1, 2, 3]) # Tạo array 1 chiều\n",
        "print(type(a)) # Prints \"<class 'numpy.ndarray'>\"\n",
        "print(a.shape) # Prints \"(3,)\"\n",
        "print(a[0], a[1], a[2]) # Prints \"1 2 3\"\n",
        "a[0] = 5 # Thay đổi phần tử vị trí số 0\n",
        "print(a) # Prints \"[5, 2, 3]\"\n",
        "b = np.array([[1,2,3],[4,5,6]]) # Tạo array 2 chiều\n",
        "print(b.shape) # Prints \"(2, 3)\"\n",
        "print(b[0, 0], b[0, 1], b[1, 0]) # Prints \"1 2 4\"\n",
        "\n"
      ],
      "execution_count": null,
      "outputs": [
        {
          "output_type": "stream",
          "text": [
            "<class 'numpy.ndarray'>\n",
            "(3,)\n",
            "1 2 3\n",
            "[5 2 3]\n",
            "(2, 3)\n",
            "1 2 4\n"
          ],
          "name": "stdout"
        }
      ]
    },
    {
      "cell_type": "markdown",
      "metadata": {
        "id": "KUACtndRz0kc"
      },
      "source": [
        "Ngoài ra có những cách khác để tạo array với giá trị mặc định"
      ]
    },
    {
      "cell_type": "code",
      "metadata": {
        "colab": {
          "base_uri": "https://localhost:8080/"
        },
        "id": "ie6S7Foyz2hi",
        "outputId": "7f189822-ea17-4951-8388-c8a0e3ccc555"
      },
      "source": [
        "import numpy as np\n",
        "a = np.zeros((2,2)) # Tạo array với tất cả các phần tử 0\n",
        "print(a) # Prints \"[[ 0. 0.]\n",
        "# [ 0. 0.]]\"\n",
        "b = np.ones((1,2,2)) # Tạo array với các phần từ 1\n",
        "print(b) # Prints \"[[ 1. 1.]]\"\n",
        "c = np.full((2,2), 7) # Tạo array với các phần tử 7\n",
        "print(c) # Prints \"[[ 7. 7.]\n",
        "# [ 7. 7.]]\"\n",
        "d = np.eye(2) # Tạo identity matrix kích thước 2*2\n",
        "print(d) # Prints \"[[ 1. 0.]\n",
        "# [ 0. 1.]]\"\n",
        "e = np.random.random((2,2)) # Tạo array với các phần tử được tạo ngẫu nhiên\n",
        "print(e) # Might print \"[[ 0.91940167 0.08143941]\n",
        "# [ 0.68744134 0.87236687]]\""
      ],
      "execution_count": null,
      "outputs": [
        {
          "output_type": "stream",
          "text": [
            "[[0. 0.]\n",
            " [0. 0.]]\n",
            "[[[1. 1.]\n",
            "  [1. 1.]]]\n",
            "[[7 7]\n",
            " [7 7]]\n",
            "[[1. 0.]\n",
            " [0. 1.]]\n",
            "[[0.75688233 0.31036233]\n",
            " [0.65567082 0.37166401]]\n"
          ],
          "name": "stdout"
        }
      ]
    },
    {
      "cell_type": "markdown",
      "metadata": {
        "id": "i6WRv3Tu0dYh"
      },
      "source": [
        "2.5.1 Array indexing\n",
        "tương tự như list:\n"
      ]
    },
    {
      "cell_type": "code",
      "metadata": {
        "colab": {
          "base_uri": "https://localhost:8080/"
        },
        "id": "KQf1JbEf0g9A",
        "outputId": "0fac8a95-1ce5-4f1a-f64f-8d1270a170d3"
      },
      "source": [
        "import numpy as np\n",
        "# Tạo array 2 chiều với kích thước (3, 4)\n",
        "# [[ 1 2 3 4]\n",
        "# [ 5 6 7 8]\n",
        "# [ 9 10 11 12]]\n",
        "a = np.array([[1,2,3,4], [5,6,7,8], [9,10,11,12]])\n",
        "print(a)\n",
        "# Dùng slide để lấy ra subarray gồm 2 hàng đầu tiên (1 & 2) và 2 cột (2 & 3).\n",
        "# Output là array kích thước 2*2\n",
        "# [[2 3]\n",
        "# [6 7]]\n",
        "b = a[:2, 1:3]\n",
        "\n",
        "print(a[0, 1]) # Prints \"2\"\n",
        "a[0, 1] = 77 # Chỉnh sửa phần tử trong array\n",
        "print(a[0, 1]) # Prints \"77\"\n",
        "\n",
        "\n"
      ],
      "execution_count": null,
      "outputs": [
        {
          "output_type": "stream",
          "text": [
            "[[ 1  2  3  4]\n",
            " [ 5  6  7  8]\n",
            " [ 9 10 11 12]]\n",
            "2\n",
            "77\n"
          ],
          "name": "stdout"
        }
      ]
    },
    {
      "cell_type": "markdown",
      "metadata": {
        "id": "zh_DaCiu0lut"
      },
      "source": [
        "Bên cạnh đó cũng có thể dùng các chỉ số với slice index. Tuy nhiên số chiều array sẽ giảm đi."
      ]
    },
    {
      "cell_type": "code",
      "metadata": {
        "colab": {
          "base_uri": "https://localhost:8080/"
        },
        "id": "MKR0lMG50oNk",
        "outputId": "bd101eb9-401f-43f8-e3a8-15d4c1f4b5c0"
      },
      "source": [
        "import numpy as np\n",
        "# Tạo array 2 chiều kích thước (3, 4)\n",
        "# [[ 1 2 3 4]\n",
        "# [ 5 6 7 8]\n",
        "# [ 9 10 11 12]]\n",
        "a = np.array([[1,2,3,4], [5,6,7,8], [9,10,11,12]])\n",
        "row_r1 = a[1, :] # Lấy ra hàng thứ 2 trong a, output array 1 chiều\n",
        "row_r2 = a[1:2, :] # Lấy ra hàng thứ 1&2 trong a, output array 2 chiều\n",
        "print(row_r1, row_r1.shape) # Prints \"[5 6 7 8] (4,)\"\n",
        "print(row_r2, row_r2.shape) # Prints \"[[5 6 7 8]] (1, 4)\""
      ],
      "execution_count": null,
      "outputs": [
        {
          "output_type": "stream",
          "text": [
            "[5 6 7 8] (4,)\n",
            "[[5 6 7 8]] (1, 4)\n"
          ],
          "name": "stdout"
        }
      ]
    },
    {
      "cell_type": "markdown",
      "metadata": {
        "id": "tpVDWTEB1GI5"
      },
      "source": [
        "Các phép tính trên array"
      ]
    },
    {
      "cell_type": "code",
      "metadata": {
        "colab": {
          "base_uri": "https://localhost:8080/"
        },
        "id": "n_IH9mLm1B5A",
        "outputId": "75b6f4e1-44e1-4f69-970b-1b7ebb0c8cfd"
      },
      "source": [
        "import numpy as np\n",
        "x = np.array([[1,2],[3,4]], dtype=np.float64)\n",
        "y = np.array([[5,6],[7,8]], dtype=np.float64)\n",
        "# Tính tổng\n",
        "# [[ 6.0 8.0]\n",
        "# [10.0 12.0]]\n",
        "print(x + y)\n",
        "print(np.add(x, y))\n",
        "# Phép trừ\n",
        "# [[-4.0 -4.0]\n",
        "# [-4.0 -4.0]]\n",
        "print(x - y)\n",
        "print(np.subtract(x, y))\n",
        "# Phép nhân element-wise\n",
        "# [[ 5.0 12.0]\n",
        "# [21.0 32.0]]\n",
        "print(x * y)\n",
        "print(np.multiply(x, y))\n",
        "# Phép chia element-wise\n",
        "# [[ 0.2 0.33333333]\n",
        "# [ 0.42857143 0.5 ]]\n",
        "print(x / y)\n",
        "print(np.divide(x, y))\n",
        "# Tính căn bậc hai\n",
        "# [[ 1. 1.41421356]\n",
        "# [ 1.73205081 2. ]]\n",
        "print(np.sqrt(x))\n",
        "\n"
      ],
      "execution_count": null,
      "outputs": [
        {
          "output_type": "stream",
          "text": [
            "[[ 6.  8.]\n",
            " [10. 12.]]\n",
            "[[ 6.  8.]\n",
            " [10. 12.]]\n",
            "[[-4. -4.]\n",
            " [-4. -4.]]\n",
            "[[-4. -4.]\n",
            " [-4. -4.]]\n",
            "[[ 5. 12.]\n",
            " [21. 32.]]\n",
            "[[ 5. 12.]\n",
            " [21. 32.]]\n",
            "[[0.2        0.33333333]\n",
            " [0.42857143 0.5       ]]\n",
            "[[0.2        0.33333333]\n",
            " [0.42857143 0.5       ]]\n",
            "[[1.         1.41421356]\n",
            " [1.73205081 2.        ]]\n"
          ],
          "name": "stdout"
        }
      ]
    },
    {
      "cell_type": "markdown",
      "metadata": {
        "id": "FxMPu6Ur1NqD"
      },
      "source": [
        "Phép toán * dùng để nhân element-wise chứ không phải nhân ma trận thông thường. Thay vào đó\n",
        "dùng np.dot để nhân 2 ma trận."
      ]
    },
    {
      "cell_type": "code",
      "metadata": {
        "colab": {
          "base_uri": "https://localhost:8080/"
        },
        "id": "9K7dlchs1QR2",
        "outputId": "7fc0a836-ab75-4385-e1a4-d51a96ed10a4"
      },
      "source": [
        "import numpy as np\n",
        "x = np.array([[1,2],[3,4]])\n",
        "y = np.array([[5,6],[7,8]])\n",
        "v = np.array([9,10])\n",
        "w = np.array([11, 12])\n",
        "# Nhân ma trận, output số 219\n",
        "print(v.dot(w))\n",
        "print(np.dot(v, w))\n",
        "# Nhân ma trận; output ma trận 2*2\n",
        "\n",
        "# [[19 22]\n",
        "# [43 50]]\n",
        "print(x.dot(y))\n",
        "print(np.dot(x, y))"
      ],
      "execution_count": null,
      "outputs": [
        {
          "output_type": "stream",
          "text": [
            "219\n",
            "219\n",
            "[[19 22]\n",
            " [43 50]]\n",
            "[[19 22]\n",
            " [43 50]]\n"
          ],
          "name": "stdout"
        }
      ]
    },
    {
      "cell_type": "markdown",
      "metadata": {
        "id": "G7umR3md1p9a"
      },
      "source": [
        "Broadcasting\n",
        "Broadcasting là một kĩ thuật cho phép numpy làm việc với các array có shape khác nhau khi thực\n",
        "hiện các phép toán.\n"
      ]
    },
    {
      "cell_type": "code",
      "metadata": {
        "colab": {
          "base_uri": "https://localhost:8080/"
        },
        "id": "IaOlj-1e1qed",
        "outputId": "f606e506-2777-4e8d-a1b5-041579b247d5"
      },
      "source": [
        "import numpy as np\n",
        "# Cộng vector v với mỗi hàng của ma trận x, kết quả lưu ở ma trận y.\n",
        "x = np.array([[1,2,3], [4,5,6], [7,8,9], [10, 11, 12]])\n",
        "v = np.array([1, 0, 1])\n",
        "y = np.empty_like(x) # Tạo 1 array có chiều giống x\n",
        "# Dùng loop để vector v với mỗi hàng của ma trận\n",
        "for i in range(4):\n",
        "  y[i, :] = x[i, :] + v\n",
        "print(y)\n",
        "# Kết quả của y\n",
        "# [[ 2 2 4]\n",
        "# [ 5 5 7]\n",
        "# [ 8 8 10]\n",
        "# [11 11 13]]\n",
        "# Cộng kiểu broadcasting trong python\n",
        "print(x + v)\n",
        "# Kết quả\n",
        "# [[ 2 2 4]\n",
        "# [ 5 5 7]\n",
        "# [ 8 8 10]\n",
        "# [11 11 13]]\n",
        "# 2 kết quả cho ra giống nhau"
      ],
      "execution_count": null,
      "outputs": [
        {
          "output_type": "stream",
          "text": [
            "[[ 2  2  4]\n",
            " [ 5  5  7]\n",
            " [ 8  8 10]\n",
            " [11 11 13]]\n",
            "[[ 2  2  4]\n",
            " [ 5  5  7]\n",
            " [ 8  8 10]\n",
            " [11 11 13]]\n"
          ],
          "name": "stdout"
        }
      ]
    },
    {
      "cell_type": "markdown",
      "metadata": {
        "id": "6jT1EkgL14XO"
      },
      "source": [
        "Matplotlib\n",
        "Thư viện matplotlib dùng để vẽ đồ thị. Phần này tôi đi qua các tính năng cơ bản của module\n",
        "matplotlib.pyplot"
      ]
    },
    {
      "cell_type": "code",
      "metadata": {
        "colab": {
          "base_uri": "https://localhost:8080/",
          "height": 265
        },
        "id": "3Xob4Hq617fI",
        "outputId": "c280f7d1-5d7a-4382-d22d-eb47d9a757a3"
      },
      "source": [
        "#Hàm plot để vẽ dữ liệu 2d trong python\n",
        "import numpy as np\n",
        "import matplotlib.pyplot as plt\n",
        "# Tính tọa độ x, y cho đồ thị hình sin\n",
        "x = np.arange(0, 3 * np.pi, 0.1)\n",
        "y = np.sin(x)\n",
        "# Plot the points using matplotlib\n",
        "plt.plot(x, y)\n",
        "plt.show() # You must call plt.show() to make graphics appear.\n"
      ],
      "execution_count": null,
      "outputs": [
        {
          "output_type": "display_data",
          "data": {
            "image/png": "[encoded data removed]",
            "text/plain": [
              "<Figure size 432x288 with 1 Axes>"
            ]
          },
          "metadata": {
            "tags": [],
            "needs_background": "light"
          }
        }
      ]
    },
    {
      "cell_type": "markdown",
      "metadata": {
        "id": "4F7DXO-e2FOQ"
      },
      "source": [
        "Ta có thể vẽ nhiều đường trên 1 đồ thị cũng như thêm tên đồ thị, tên trục x, y cũng như tên các\n",
        "đường tương ứng lên đồ thị.\n"
      ]
    },
    {
      "cell_type": "code",
      "metadata": {
        "colab": {
          "base_uri": "https://localhost:8080/",
          "height": 295
        },
        "id": "Uff_u67v2Fr1",
        "outputId": "f600c76f-99fb-4ff6-ec2d-860da0a8bfa9"
      },
      "source": [
        "import numpy as np\n",
        "import matplotlib.pyplot as plt\n",
        "# Tính tọa độ x, y cho đồ thị sin và cos\n",
        "x = np.arange(0, 3 * np.pi, 0.1)\n",
        "y_sin = np.sin(x)\n",
        "y_cos = np.cos(x)\n",
        "# Vẽ đồ thị sin, cos dùng matplotlib\n",
        "plt.plot(x, y_sin)\n",
        "plt.plot(x, y_cos)\n",
        "plt.xlabel('x axis label')\n",
        "plt.ylabel('y axis label')\n",
        "plt.title('Sine and Cosine')\n",
        "plt.legend(['Sine', 'Cosine'])\n",
        "plt.show()"
      ],
      "execution_count": null,
      "outputs": [
        {
          "output_type": "display_data",
          "data": {
            "image/png": "[encoded data removed]",
            "text/plain": [
              "<Figure size 432x288 with 1 Axes>"
            ]
          },
          "metadata": {
            "tags": [],
            "needs_background": "light"
          }
        }
      ]
    },
    {
      "cell_type": "markdown",
      "metadata": {
        "id": "3QlLDL6c2LNi"
      },
      "source": [
        "Bên cạnh đấy ta có thể vẽ nhiều subplot và mỗi đồ thị trên 1 subplot riêng"
      ]
    },
    {
      "cell_type": "code",
      "metadata": {
        "colab": {
          "base_uri": "https://localhost:8080/",
          "height": 163
        },
        "id": "7rVeG2YX2S2E",
        "outputId": "fd155d41-5ce0-4c6b-c159-89093704d4b6"
      },
      "source": [
        "# Tính tọa độ x, y cho đồ thị sin, cos\n",
        "x = np.arange(0, 3 * np.pi, 0.1)\n",
        "y_sin = np.sin(x)\n",
        "y_cos = np.cos(x)\n",
        "# Trên grid kích thước 2*1, vẽ trên grid 1\n",
        "plt.subplot(2, 2, 1)\n",
        "plt.plot(x, y_sin)\n",
        "plt.title('Sine')\n",
        "# Trên grid kích thước 2*1, vẽ trên grid 2\n",
        "plt.subplot(2, 2, 2)\n",
        "plt.plot(x, y_cos)\n",
        "plt.title('Cosine')\n",
        "plt.show()\n"
      ],
      "execution_count": null,
      "outputs": [
        {
          "output_type": "display_data",
          "data": {
            "image/png": "[encoded data removed]",
            "text/plain": [
              "<Figure size 432x288 with 2 Axes>"
            ]
          },
          "metadata": {
            "tags": [],
            "needs_background": "light"
          }
        }
      ]
    }
  ]
}